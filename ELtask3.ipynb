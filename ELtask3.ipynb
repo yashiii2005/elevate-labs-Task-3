{
 "cells": [
  {
   "cell_type": "code",
   "execution_count": 12,
   "id": "09bc0f8f-b1e7-49cd-a50e-34435e0c68d0",
   "metadata": {},
   "outputs": [],
   "source": [
    "import requests\n",
    "from bs4 import BeautifulSoup\n",
    "import pandas as pd\n",
    "import math"
   ]
  },
  {
   "cell_type": "code",
   "execution_count": 13,
   "id": "5b6feaa7-c176-4860-9724-f89cb8bf290b",
   "metadata": {},
   "outputs": [],
   "source": [
    "# Step 1: Fetch HTML from the news website\n",
    "url = 'https://www.bbc.com/news'  # Replace with preferred news site\n",
    "response = requests.get(url)\n",
    "response.raise_for_status()"
   ]
  },
  {
   "cell_type": "code",
   "execution_count": 14,
   "id": "6d175cb6-d8d2-47fb-bc4f-cd8d6a056f4d",
   "metadata": {},
   "outputs": [],
   "source": [
    "# Step 2: Parse HTML and extract headlines\n",
    "soup = BeautifulSoup(response.text, 'html.parser')\n",
    "headlines = [h2.get_text(strip=True) for h2 in soup.find_all('h2')]"
   ]
  },
  {
   "cell_type": "code",
   "execution_count": 15,
   "id": "fe1c6feb-44c4-4314-a878-49cd5544ac05",
   "metadata": {},
   "outputs": [],
   "source": [
    "# Step 3: Remove NaN and empty strings\n",
    "# Filter out items that are NaN or empty\n",
    "cleaned_headlines = [h for h in headlines if h and not (isinstance(h, float) and math.isnan(h))]\n",
    "\n",
    "# Step 4: Save headlines into a .txt file with a custom header\n",
    "df = pd.DataFrame(cleaned_headlines, columns=['Top News Headlines'])  # Custom column header\n"
   ]
  },
  {
   "cell_type": "code",
   "execution_count": 16,
   "id": "781ddc46-0e69-4fdb-ab5d-b2172defa6d1",
   "metadata": {},
   "outputs": [
    {
     "name": "stdout",
     "output_type": "stream",
     "text": [
      "Scraped 62 headlines and saved with header 'Top News Headlines' to headlines.txt\n"
     ]
    }
   ],
   "source": [
    "# Save to text file with header, tab-separated for clarity\n",
    "df.to_csv('headlinez.txt', index=False, sep='\\t')\n",
    "\n",
    "print(f\"Scraped {len(cleaned_headlines)} headlines and saved with header 'Top News Headlines' to headlines.txt\")"
   ]
  },
  {
   "cell_type": "code",
   "execution_count": 17,
   "id": "bd6958a7-6422-47e8-a22b-7fb8cbe51559",
   "metadata": {},
   "outputs": [
    {
     "data": {
      "text/html": [
       "<div>\n",
       "<style scoped>\n",
       "    .dataframe tbody tr th:only-of-type {\n",
       "        vertical-align: middle;\n",
       "    }\n",
       "\n",
       "    .dataframe tbody tr th {\n",
       "        vertical-align: top;\n",
       "    }\n",
       "\n",
       "    .dataframe thead th {\n",
       "        text-align: right;\n",
       "    }\n",
       "</style>\n",
       "<table border=\"1\" class=\"dataframe\">\n",
       "  <thead>\n",
       "    <tr style=\"text-align: right;\">\n",
       "      <th></th>\n",
       "      <th>Top News Headlines</th>\n",
       "    </tr>\n",
       "  </thead>\n",
       "  <tbody>\n",
       "    <tr>\n",
       "      <th>Netanyahu calls Palestinian recognition 'disgraceful'</th>\n",
       "      <td>as dozens walk out of UN speech</td>\n",
       "    </tr>\n",
       "    <tr>\n",
       "      <th>Watch: Dozens of delegates get up and leave as Netanyahu begins speech at UN</th>\n",
       "      <td>NaN</td>\n",
       "    </tr>\n",
       "    <tr>\n",
       "      <th>The Indian who caught 'Bikini killer' twice - and is now Netflix hero</th>\n",
       "      <td>NaN</td>\n",
       "    </tr>\n",
       "    <tr>\n",
       "      <th>China launches campaign to keep killjoys off the internet</th>\n",
       "      <td>NaN</td>\n",
       "    </tr>\n",
       "    <tr>\n",
       "      <th>Ryder Cup: Europe cruise to first two points in foursomes - listen &amp; live text</th>\n",
       "      <td>NaN</td>\n",
       "    </tr>\n",
       "    <tr>\n",
       "      <th>...</th>\n",
       "      <td>...</td>\n",
       "    </tr>\n",
       "    <tr>\n",
       "      <th>Hamilton pulls out of tyre test to be with ill dog</th>\n",
       "      <td>NaN</td>\n",
       "    </tr>\n",
       "    <tr>\n",
       "      <th>Trump 'will move World Cup games from unsafe cities'</th>\n",
       "      <td>NaN</td>\n",
       "    </tr>\n",
       "    <tr>\n",
       "      <th>Tottenham reject takeover interest from third group</th>\n",
       "      <td>NaN</td>\n",
       "    </tr>\n",
       "    <tr>\n",
       "      <th>World Cup final predictions - will England win?</th>\n",
       "      <td>NaN</td>\n",
       "    </tr>\n",
       "    <tr>\n",
       "      <th>'Bigger than football' - the Dublin NFL game 100 years in the making</th>\n",
       "      <td>NaN</td>\n",
       "    </tr>\n",
       "  </tbody>\n",
       "</table>\n",
       "<p>62 rows × 1 columns</p>\n",
       "</div>"
      ],
      "text/plain": [
       "                                                                  Top News Headlines\n",
       "Netanyahu calls Palestinian recognition 'disgra...   as dozens walk out of UN speech\n",
       "Watch: Dozens of delegates get up and leave as ...                               NaN\n",
       "The Indian who caught 'Bikini killer' twice - a...                               NaN\n",
       "China launches campaign to keep killjoys off th...                               NaN\n",
       "Ryder Cup: Europe cruise to first two points in...                               NaN\n",
       "...                                                                              ...\n",
       "Hamilton pulls out of tyre test to be with ill dog                               NaN\n",
       "Trump 'will move World Cup games from unsafe ci...                               NaN\n",
       "Tottenham reject takeover interest from third g...                               NaN\n",
       "World Cup final predictions - will England win?                                  NaN\n",
       "'Bigger than football' - the Dublin NFL game 10...                               NaN\n",
       "\n",
       "[62 rows x 1 columns]"
      ]
     },
     "execution_count": 17,
     "metadata": {},
     "output_type": "execute_result"
    }
   ],
   "source": [
    "import pandas as pd\n",
    "df = pd.read_csv('headlinez.txt')\n",
    "df"
   ]
  },
  {
   "cell_type": "code",
   "execution_count": null,
   "id": "33cdceec-bebd-47f8-a69a-47dac99bdc75",
   "metadata": {},
   "outputs": [],
   "source": []
  },
  {
   "cell_type": "code",
   "execution_count": null,
   "id": "d1c32395-8a02-49b8-bc6d-fd7cf272a1e3",
   "metadata": {},
   "outputs": [],
   "source": []
  }
 ],
 "metadata": {
  "kernelspec": {
   "display_name": "Python 3 (ipykernel)",
   "language": "python",
   "name": "python3"
  },
  "language_info": {
   "codemirror_mode": {
    "name": "ipython",
    "version": 3
   },
   "file_extension": ".py",
   "mimetype": "text/x-python",
   "name": "python",
   "nbconvert_exporter": "python",
   "pygments_lexer": "ipython3",
   "version": "3.11.7"
  }
 },
 "nbformat": 4,
 "nbformat_minor": 5
}
